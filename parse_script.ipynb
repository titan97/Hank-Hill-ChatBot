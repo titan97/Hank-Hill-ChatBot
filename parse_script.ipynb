{
  "nbformat": 4,
  "nbformat_minor": 0,
  "metadata": {
    "colab": {
      "provenance": [],
      "collapsed_sections": [],
      "authorship_tag": "ABX9TyNdxIVSYJP/14ypE8YSc5S7",
      "include_colab_link": true
    },
    "kernelspec": {
      "name": "python3",
      "display_name": "Python 3"
    },
    "language_info": {
      "name": "python"
    }
  },
  "cells": [
    {
      "cell_type": "markdown",
      "metadata": {
        "id": "view-in-github",
        "colab_type": "text"
      },
      "source": [
        "<a href=\"https://colab.research.google.com/github/titan97/Hank-Hill-ChatBot/blob/main/parse_script.ipynb\" target=\"_parent\"><img src=\"https://colab.research.google.com/assets/colab-badge.svg\" alt=\"Open In Colab\"/></a>"
      ]
    },
    {
      "cell_type": "code",
      "metadata": {
        "colab": {
          "base_uri": "https://localhost:8080/"
        },
        "id": "ZNvqqkE_CnxH",
        "outputId": "c42daa3e-26cc-402a-a0df-b4f37c79f161"
      },
      "source": [
        "from google.colab import drive\n",
        "drive.mount('/content/drive/')"
      ],
      "execution_count": null,
      "outputs": [
        {
          "output_type": "stream",
          "name": "stdout",
          "text": [
            "Mounted at /content/drive/\n"
          ]
        }
      ]
    },
    {
      "cell_type": "code",
      "metadata": {
        "id": "wYuBYzgzC9rr"
      },
      "source": [
        "import os\n",
        "os.chdir('/content/drive/My Drive')"
      ],
      "execution_count": null,
      "outputs": []
    },
    {
      "cell_type": "code",
      "metadata": {
        "id": "OSoB_OPgDIj1"
      },
      "source": [
        "import re \n",
        "import pandas as pd"
      ],
      "execution_count": null,
      "outputs": []
    },
    {
      "cell_type": "code",
      "metadata": {
        "id": "dzDfl3p8DL11"
      },
      "source": [
        "pattern = r'(^[a-zA-Z\\s]+):(.+)'"
      ],
      "execution_count": null,
      "outputs": []
    },
    {
      "cell_type": "code",
      "metadata": {
        "id": "zMObUHE0Eo4o"
      },
      "source": [
        "data = {\n",
        "    'name': [],\n",
        "    'line': []\n",
        "}"
      ],
      "execution_count": null,
      "outputs": []
    },
    {
      "cell_type": "code",
      "metadata": {
        "id": "pzxdO5eCF2vq"
      },
      "source": [
        "with open('king_of_the_hill_seasons1_5.txt', 'rt') as file:\n",
        "  for line in file.readlines():\n",
        "    match = re.findall(pattern, line)\n",
        "    if match:\n",
        "      name, line = match[0]\n",
        "      data['name'].append(name)\n",
        "      data['line'].append(line)"
      ],
      "execution_count": null,
      "outputs": []
    },
    {
      "cell_type": "code",
      "metadata": {
        "id": "f3IgbFC6GQmE"
      },
      "source": [
        "df = pd.DataFrame(data)"
      ],
      "execution_count": null,
      "outputs": []
    },
    {
      "cell_type": "code",
      "metadata": {
        "colab": {
          "base_uri": "https://localhost:8080/"
        },
        "id": "m2DKi6MdGTyx",
        "outputId": "0bfb480f-ea3a-4b11-e8f9-249e6096ee88"
      },
      "source": [
        "len(df)"
      ],
      "execution_count": null,
      "outputs": [
        {
          "output_type": "execute_result",
          "data": {
            "text/plain": [
              "4127"
            ]
          },
          "metadata": {},
          "execution_count": 12
        }
      ]
    },
    {
      "cell_type": "code",
      "metadata": {
        "colab": {
          "base_uri": "https://localhost:8080/"
        },
        "id": "7F7T5ROAGVXq",
        "outputId": "c5e222e6-468a-483b-d15a-c68f02003e4c"
      },
      "source": [
        "sum(df['name'] == 'HANK')"
      ],
      "execution_count": null,
      "outputs": [
        {
          "output_type": "execute_result",
          "data": {
            "text/plain": [
              "1045"
            ]
          },
          "metadata": {},
          "execution_count": 13
        }
      ]
    },
    {
      "cell_type": "code",
      "metadata": {
        "id": "IXHH6SQGFzZ4"
      },
      "source": [
        "a = df[df['name'] == 'HANK']"
      ],
      "execution_count": null,
      "outputs": []
    },
    {
      "cell_type": "code",
      "metadata": {
        "colab": {
          "base_uri": "https://localhost:8080/"
        },
        "id": "0oNKeZJRKU0-",
        "outputId": "76266a5c-3a41-40bd-cabd-e38b3d33480c"
      },
      "source": [
        "len(a)"
      ],
      "execution_count": null,
      "outputs": [
        {
          "output_type": "execute_result",
          "data": {
            "text/plain": [
              "1045"
            ]
          },
          "metadata": {},
          "execution_count": 44
        }
      ]
    },
    {
      "cell_type": "code",
      "metadata": {
        "id": "Hn4m5JaiJUjo"
      },
      "source": [
        "b = a[a['line'].str.contains('what', flags=re.IGNORECASE)]"
      ],
      "execution_count": null,
      "outputs": []
    },
    {
      "cell_type": "code",
      "metadata": {
        "colab": {
          "base_uri": "https://localhost:8080/"
        },
        "id": "iiqm-EQiJUoq",
        "outputId": "9379160a-146e-4504-861b-df2157a869ba"
      },
      "source": [
        "b['line'] = b['line'].str.replace('what', 'hwhat', case=False)"
      ],
      "execution_count": null,
      "outputs": [
        {
          "output_type": "stream",
          "name": "stderr",
          "text": [
            "/usr/local/lib/python3.7/dist-packages/ipykernel_launcher.py:1: SettingWithCopyWarning: \n",
            "A value is trying to be set on a copy of a slice from a DataFrame.\n",
            "Try using .loc[row_indexer,col_indexer] = value instead\n",
            "\n",
            "See the caveats in the documentation: https://pandas.pydata.org/pandas-docs/stable/user_guide/indexing.html#returning-a-view-versus-a-copy\n",
            "  \"\"\"Entry point for launching an IPython kernel.\n"
          ]
        }
      ]
    },
    {
      "cell_type": "code",
      "metadata": {
        "colab": {
          "base_uri": "https://localhost:8080/"
        },
        "id": "YgQ86Ui1MzIR",
        "outputId": "2062bc61-7bdd-4c15-e330-5751405807d8"
      },
      "source": [
        "b['line'].head(10)\n"
      ],
      "execution_count": null,
      "outputs": [
        {
          "output_type": "execute_result",
          "data": {
            "text/plain": [
              "8       Well, I wish it were that easy, Boomhauer, bu...\n",
              "17                                             So hwhat?\n",
              "41      You, uh, you're my son, you know, with everyt...\n",
              "43      Ah. Well -- (high-pitched whinny) That's a he...\n",
              "57             Ugh! hwhat kind of filth are you reading?\n",
              "96      I tell you hwhat, we are going to turn those ...\n",
              "112     That's hwhat the white man calls them. Wemata...\n",
              "130     I tell you hwhat, this family goes through mi...\n",
              "133                             hwhat the hell was that?\n",
              "144     I did hwhat you couldn't do. Now, I'm not say...\n",
              "Name: line, dtype: object"
            ]
          },
          "metadata": {},
          "execution_count": 62
        }
      ]
    },
    {
      "cell_type": "code",
      "metadata": {
        "id": "_5QYi_NuNqUg"
      },
      "source": [
        "df2 = df.copy()"
      ],
      "execution_count": null,
      "outputs": []
    },
    {
      "cell_type": "code",
      "metadata": {
        "colab": {
          "base_uri": "https://localhost:8080/"
        },
        "id": "fn79mMUhObxP",
        "outputId": "ece19a04-db8a-4004-9214-5bf5490b07de"
      },
      "source": [
        "len(df2)"
      ],
      "execution_count": null,
      "outputs": [
        {
          "output_type": "execute_result",
          "data": {
            "text/plain": [
              "4127"
            ]
          },
          "metadata": {},
          "execution_count": 68
        }
      ]
    },
    {
      "cell_type": "code",
      "metadata": {
        "id": "vPMen1fTOdGG"
      },
      "source": [
        "df2['line'] = df['line'].str.replace('what', 'hwhat', case=False)"
      ],
      "execution_count": null,
      "outputs": []
    },
    {
      "cell_type": "code",
      "metadata": {
        "colab": {
          "base_uri": "https://localhost:8080/",
          "height": 206
        },
        "id": "H9C7UY1APFMX",
        "outputId": "c4a27081-54d5-41c5-8329-957464537649"
      },
      "source": [
        "df2[df2['line'].str.contains('hwhat')].head()"
      ],
      "execution_count": null,
      "outputs": [
        {
          "output_type": "execute_result",
          "data": {
            "text/html": [
              "<div>\n",
              "<style scoped>\n",
              "    .dataframe tbody tr th:only-of-type {\n",
              "        vertical-align: middle;\n",
              "    }\n",
              "\n",
              "    .dataframe tbody tr th {\n",
              "        vertical-align: top;\n",
              "    }\n",
              "\n",
              "    .dataframe thead th {\n",
              "        text-align: right;\n",
              "    }\n",
              "</style>\n",
              "<table border=\"1\" class=\"dataframe\">\n",
              "  <thead>\n",
              "    <tr style=\"text-align: right;\">\n",
              "      <th></th>\n",
              "      <th>name</th>\n",
              "      <th>line</th>\n",
              "    </tr>\n",
              "  </thead>\n",
              "  <tbody>\n",
              "    <tr>\n",
              "      <th>4</th>\n",
              "      <td>DALE</td>\n",
              "      <td>I know hwhat's wrong with it: It's a Ford. Yo...</td>\n",
              "    </tr>\n",
              "    <tr>\n",
              "      <th>7</th>\n",
              "      <td>BOOMHAUER</td>\n",
              "      <td>I tell ya hwhat you do...you just take them d...</td>\n",
              "    </tr>\n",
              "    <tr>\n",
              "      <th>8</th>\n",
              "      <td>HANK</td>\n",
              "      <td>Well, I wish it were that easy, Boomhauer, bu...</td>\n",
              "    </tr>\n",
              "    <tr>\n",
              "      <th>14</th>\n",
              "      <td>DALE</td>\n",
              "      <td>I know hwhat's wrong with your truck. It's yo...</td>\n",
              "    </tr>\n",
              "    <tr>\n",
              "      <th>17</th>\n",
              "      <td>HANK</td>\n",
              "      <td>So hwhat?</td>\n",
              "    </tr>\n",
              "  </tbody>\n",
              "</table>\n",
              "</div>"
            ],
            "text/plain": [
              "         name                                               line\n",
              "4        DALE   I know hwhat's wrong with it: It's a Ford. Yo...\n",
              "7   BOOMHAUER   I tell ya hwhat you do...you just take them d...\n",
              "8        HANK   Well, I wish it were that easy, Boomhauer, bu...\n",
              "14       DALE   I know hwhat's wrong with your truck. It's yo...\n",
              "17       HANK                                          So hwhat?"
            ]
          },
          "metadata": {},
          "execution_count": 74
        }
      ]
    },
    {
      "cell_type": "code",
      "metadata": {
        "id": "IPi6bA3kPSyN",
        "outputId": "b3c8f010-441d-4449-a1c4-43365fe35962",
        "colab": {
          "base_uri": "https://localhost:8080/",
          "height": 206
        }
      },
      "source": [
        "df2.head(5)"
      ],
      "execution_count": null,
      "outputs": [
        {
          "output_type": "execute_result",
          "data": {
            "text/html": [
              "<div>\n",
              "<style scoped>\n",
              "    .dataframe tbody tr th:only-of-type {\n",
              "        vertical-align: middle;\n",
              "    }\n",
              "\n",
              "    .dataframe tbody tr th {\n",
              "        vertical-align: top;\n",
              "    }\n",
              "\n",
              "    .dataframe thead th {\n",
              "        text-align: right;\n",
              "    }\n",
              "</style>\n",
              "<table border=\"1\" class=\"dataframe\">\n",
              "  <thead>\n",
              "    <tr style=\"text-align: right;\">\n",
              "      <th></th>\n",
              "      <th>name</th>\n",
              "      <th>line</th>\n",
              "    </tr>\n",
              "  </thead>\n",
              "  <tbody>\n",
              "    <tr>\n",
              "      <th>0</th>\n",
              "      <td>BILL</td>\n",
              "      <td>Yep.</td>\n",
              "    </tr>\n",
              "    <tr>\n",
              "      <th>1</th>\n",
              "      <td>DALE</td>\n",
              "      <td>Yep.</td>\n",
              "    </tr>\n",
              "    <tr>\n",
              "      <th>2</th>\n",
              "      <td>HANK</td>\n",
              "      <td>Yep.</td>\n",
              "    </tr>\n",
              "    <tr>\n",
              "      <th>3</th>\n",
              "      <td>BOOMHAUER</td>\n",
              "      <td>M-hm.</td>\n",
              "    </tr>\n",
              "    <tr>\n",
              "      <th>4</th>\n",
              "      <td>DALE</td>\n",
              "      <td>I know hwhat's wrong with it: It's a Ford. Yo...</td>\n",
              "    </tr>\n",
              "  </tbody>\n",
              "</table>\n",
              "</div>"
            ],
            "text/plain": [
              "        name                                               line\n",
              "0       BILL                                               Yep.\n",
              "1       DALE                                               Yep.\n",
              "2       HANK                                               Yep.\n",
              "3  BOOMHAUER                                              M-hm.\n",
              "4       DALE   I know hwhat's wrong with it: It's a Ford. Yo..."
            ]
          },
          "metadata": {},
          "execution_count": 75
        }
      ]
    },
    {
      "cell_type": "code",
      "metadata": {
        "id": "4vK5QPG6HeAL"
      },
      "source": [
        "df2.to_csv('hank_hill_2.csv', index=False)"
      ],
      "execution_count": null,
      "outputs": []
    }
  ]
}